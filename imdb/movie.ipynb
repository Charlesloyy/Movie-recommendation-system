{
 "cells": [
  {
   "cell_type": "code",
   "execution_count": 1,
   "metadata": {},
   "outputs": [],
   "source": [
    "import pandas as pd\n",
    "import seaborn as sns\n",
    "import numpy as np \n",
    "import matplotlib.pyplot as plt\n",
    "from sklearn.feature_extraction.text import TfidfVectorizer\n",
    "from sklearn.metrics.pairwise import cosine_similarity\n",
    "import difflib\n",
    "%matplotlib inline"
   ]
  },
  {
   "cell_type": "code",
   "execution_count": 69,
   "metadata": {},
   "outputs": [],
   "source": [
    "df = pd.read_csv(\"movies4.csv\")"
   ]
  },
  {
   "cell_type": "code",
   "execution_count": 70,
   "metadata": {},
   "outputs": [
    {
     "data": {
      "text/html": [
       "<div>\n",
       "<style scoped>\n",
       "    .dataframe tbody tr th:only-of-type {\n",
       "        vertical-align: middle;\n",
       "    }\n",
       "\n",
       "    .dataframe tbody tr th {\n",
       "        vertical-align: top;\n",
       "    }\n",
       "\n",
       "    .dataframe thead th {\n",
       "        text-align: right;\n",
       "    }\n",
       "</style>\n",
       "<table border=\"1\" class=\"dataframe\">\n",
       "  <thead>\n",
       "    <tr style=\"text-align: right;\">\n",
       "      <th></th>\n",
       "      <th>Title</th>\n",
       "      <th>Length/genre</th>\n",
       "      <th>Rating</th>\n",
       "      <th>metascore</th>\n",
       "      <th>story</th>\n",
       "      <th>genre</th>\n",
       "      <th>director</th>\n",
       "      <th>star</th>\n",
       "    </tr>\n",
       "  </thead>\n",
       "  <tbody>\n",
       "    <tr>\n",
       "      <th>0</th>\n",
       "      <td>Guardians of the Galaxy Vol. 3 (2023)</td>\n",
       "      <td>150 min</td>\n",
       "      <td>8.2</td>\n",
       "      <td>64</td>\n",
       "      <td>Still reeling from the loss of Gamora, Peter Q...</td>\n",
       "      <td>Action, Adventure, Comedy</td>\n",
       "      <td>James Gunn</td>\n",
       "      <td>Chris Pratt, Chukwudi Iwuji, Bradley Cooper, ...</td>\n",
       "    </tr>\n",
       "    <tr>\n",
       "      <th>1</th>\n",
       "      <td>Fast X (2023)</td>\n",
       "      <td>141 min</td>\n",
       "      <td>6.3</td>\n",
       "      <td>None</td>\n",
       "      <td>Dom Toretto and his family are targeted by the...</td>\n",
       "      <td>Action, Adventure, Crime</td>\n",
       "      <td>Louis Leterrier</td>\n",
       "      <td>Vin Diesel, Michelle Rodriguez, Jason Statham...</td>\n",
       "    </tr>\n",
       "    <tr>\n",
       "      <th>2</th>\n",
       "      <td>The Mother (2023)</td>\n",
       "      <td>115 min</td>\n",
       "      <td>5.5</td>\n",
       "      <td>None</td>\n",
       "      <td>While fleeing from dangerous assailants, an as...</td>\n",
       "      <td>Action, Thriller</td>\n",
       "      <td>Niki Caro</td>\n",
       "      <td>Jennifer Lopez, Lucy Paez, Omari Hardwick, Jo...</td>\n",
       "    </tr>\n",
       "    <tr>\n",
       "      <th>3</th>\n",
       "      <td>Dungeons &amp; Dragons: Honor Among Thieves (2023)</td>\n",
       "      <td>134 min</td>\n",
       "      <td>7.3</td>\n",
       "      <td>72</td>\n",
       "      <td>A charming thief and a band of unlikely advent...</td>\n",
       "      <td>Action, Adventure, Comedy</td>\n",
       "      <td>John Francis Daley, Jonathan Goldstein</td>\n",
       "      <td>Chris Pine, Michelle Rodriguez, Regé-Jean Pag...</td>\n",
       "    </tr>\n",
       "    <tr>\n",
       "      <th>4</th>\n",
       "      <td>Guy Ritchie's the Covenant (2023)</td>\n",
       "      <td>123 min</td>\n",
       "      <td>7.6</td>\n",
       "      <td>63</td>\n",
       "      <td>During the war in Afghanistan, a local interpr...</td>\n",
       "      <td>Action, Thriller, War</td>\n",
       "      <td>Guy Ritchie</td>\n",
       "      <td>Jake Gyllenhaal, Dar Salim, Sean Sagar, Jason...</td>\n",
       "    </tr>\n",
       "  </tbody>\n",
       "</table>\n",
       "</div>"
      ],
      "text/plain": [
       "                                             Title Length/genre Rating  \\\n",
       "0            Guardians of the Galaxy Vol. 3 (2023)      150 min    8.2   \n",
       "1                                    Fast X (2023)      141 min    6.3   \n",
       "2                                The Mother (2023)      115 min    5.5   \n",
       "3   Dungeons & Dragons: Honor Among Thieves (2023)      134 min    7.3   \n",
       "4                Guy Ritchie's the Covenant (2023)      123 min    7.6   \n",
       "\n",
       "  metascore                                              story  \\\n",
       "0        64  Still reeling from the loss of Gamora, Peter Q...   \n",
       "1      None  Dom Toretto and his family are targeted by the...   \n",
       "2      None  While fleeing from dangerous assailants, an as...   \n",
       "3        72  A charming thief and a band of unlikely advent...   \n",
       "4        63  During the war in Afghanistan, a local interpr...   \n",
       "\n",
       "                        genre                                  director  \\\n",
       "0   Action, Adventure, Comedy                               James Gunn    \n",
       "1    Action, Adventure, Crime                          Louis Leterrier    \n",
       "2            Action, Thriller                                Niki Caro    \n",
       "3   Action, Adventure, Comedy   John Francis Daley, Jonathan Goldstein    \n",
       "4       Action, Thriller, War                              Guy Ritchie    \n",
       "\n",
       "                                                star  \n",
       "0   Chris Pratt, Chukwudi Iwuji, Bradley Cooper, ...  \n",
       "1   Vin Diesel, Michelle Rodriguez, Jason Statham...  \n",
       "2   Jennifer Lopez, Lucy Paez, Omari Hardwick, Jo...  \n",
       "3   Chris Pine, Michelle Rodriguez, Regé-Jean Pag...  \n",
       "4   Jake Gyllenhaal, Dar Salim, Sean Sagar, Jason...  "
      ]
     },
     "execution_count": 70,
     "metadata": {},
     "output_type": "execute_result"
    }
   ],
   "source": [
    "df.head()"
   ]
  },
  {
   "cell_type": "code",
   "execution_count": 68,
   "metadata": {},
   "outputs": [
    {
     "data": {
      "text/plain": [
       "0              Guardians of the Galaxy Vol. 3 (2023)\n",
       "1                                      Fast X (2023)\n",
       "2                                  The Mother (2023)\n",
       "3     Dungeons & Dragons: Honor Among Thieves (2023)\n",
       "4                  Guy Ritchie's the Covenant (2023)\n",
       "Name: Title, dtype: object"
      ]
     },
     "execution_count": 68,
     "metadata": {},
     "output_type": "execute_result"
    }
   ],
   "source": [
    "df[\"Title\"].head()\n"
   ]
  },
  {
   "cell_type": "code",
   "execution_count": 71,
   "metadata": {},
   "outputs": [],
   "source": [
    "selected_column = [\"genre\", \"story\", \"star\", \"director\"]"
   ]
  },
  {
   "cell_type": "code",
   "execution_count": 72,
   "metadata": {},
   "outputs": [],
   "source": [
    "for feature in selected_column:\n",
    "    df[feature] = df[feature].fillna(\"\")"
   ]
  },
  {
   "cell_type": "code",
   "execution_count": 73,
   "metadata": {},
   "outputs": [],
   "source": [
    "combined = df[\"genre\"] +\"\"+df[\"story\"]+\"\"+df[\"star\"]+\"\"+df[\"director\"] "
   ]
  },
  {
   "cell_type": "code",
   "execution_count": 74,
   "metadata": {},
   "outputs": [
    {
     "data": {
      "text/plain": [
       "0       Action, Adventure, ComedyStill reeling from t...\n",
       "1       Action, Adventure, CrimeDom Toretto and his f...\n",
       "2       Action, ThrillerWhile fleeing from dangerous ...\n",
       "3       Action, Adventure, ComedyA charming thief and...\n",
       "4       Action, Thriller, WarDuring the war in Afghan...\n",
       "                             ...                        \n",
       "145     Post-productionPlot unknown. Sequel to the 20...\n",
       "146     Action, Adventure, DramaGandalf and Aragorn l...\n",
       "147     Action, Comedy, CrimeDevoted lifeguard Mitch ...\n",
       "148     Action, Adventure, FantasyThree years into th...\n",
       "149     Action, Drama, ThrillerEight years after the ...\n",
       "Length: 150, dtype: object"
      ]
     },
     "execution_count": 74,
     "metadata": {},
     "output_type": "execute_result"
    }
   ],
   "source": [
    "combined"
   ]
  },
  {
   "cell_type": "code",
   "execution_count": 75,
   "metadata": {},
   "outputs": [],
   "source": [
    "tf = TfidfVectorizer()"
   ]
  },
  {
   "cell_type": "code",
   "execution_count": 76,
   "metadata": {},
   "outputs": [],
   "source": [
    "feature_vect = tf.fit_transform(combined)"
   ]
  },
  {
   "cell_type": "code",
   "execution_count": 77,
   "metadata": {},
   "outputs": [],
   "source": [
    "similar = cosine_similarity(feature_vect)"
   ]
  },
  {
   "cell_type": "code",
   "execution_count": 78,
   "metadata": {},
   "outputs": [
    {
     "name": "stdout",
     "output_type": "stream",
     "text": [
      "[' Guardians of the Galaxy Vol. 3 (2023)', ' Fast X (2023)', ' The Mother (2023)', ' Dungeons & Dragons: Honor Among Thieves (2023)', \" Guy Ritchie's the Covenant (2023)\", ' Sisu (2022)', ' Ant-Man and the Wasp: Quantumania (2023)', ' Mission: Impossible - Dead Reckoning Part One (2023)', ' Indiana Jones and the Dial of Destiny (2023)', ' Misanthrope (2023)', ' John Wick: Chapter 4 (2023)', ' The Creator (2023)', ' Hypnotic (2023)', ' Guardians of the Galaxy (2014)', ' The Flash (2023)', ' Peter Pan & Wendy (2023)', ' Ghosted (I) (2023)', ' Spider-Man: Across the Spider-Verse (2023)', ' F9 (2021)', ' Guardians of the Galaxy Vol. 2 (2017)', ' Avatar: The Way of Water (2022)', ' Transformers: Rise of the Beasts (2023)', ' Dead Shot (2023)', ' Dune: Part Two (2023)', ' Heat (1995)', ' Polite Society (2023)', ' AKA (2023)', ' Everything Everywhere All at Once (2022)', ' Top Gun: Maverick (2022)', ' Meg 2: The Trench (2023)', ' Dune: Part One (2021)', ' Bullet Train (2022)', ' The Fast and the Furious (2001)', ' Operation Fortune: Ruse de Guerre (2023)', ' Knights of the Zodiac (2023)', ' Shazam! Fury of the Gods (2023)', ' The Suicide Squad (2021)', ' 65 (2023)', ' The Batman (2022)', ' The Machine (I) (2023)', ' The Last Kingdom: Seven Kings Must Die (2023)', ' Fast & Furious 7 (2015)', ' Spider-Man: No Way Home (2021)', ' Avengers: Endgame (2019)', ' The Dark Knight (2008)', ' Extraction 2 (2023)', ' Expend4bles (2023)', ' Inception (2010)', ' Fast & Furious (2009)', ' Fast Five (2011)', ' The Fate of the Furious (2017)', ' The Meg (2018)', ' John Wick (2014)', ' Spider-Man: Into the Spider-Verse (2018)', ' Strange World (2022)', ' Thor: Love and Thunder (2022)', ' The Hunger Games: The Ballad of Songbirds and Snakes (2023)', ' Léon (1994)', ' Top Gun (1986)', ' Kingsman: The Secret Service (2014)', ' The Hunger Games (2012)', ' Black Panther: Wakanda Forever (2022)', ' Plane (2023)', ' Blade Runner 2049 (2017)', ' Conan the Barbarian (1982)', ' Furious 6 (2013)', ' The Unbearable Weight of Massive Talent (2022)', ' The Fast and the Furious: Tokyo Drift (2006)', ' The Lord of the Rings: The Fellowship of the Ring (2001)', ' Raiders of the Lost Ark (1981)', ' Spider-Man: Homecoming (2017)', ' Nobody (I) (2021)', ' Suzume no Tojimari (2022)', ' Gladiator (2000)', ' Kindergarten Cop (1990)', ' Im Westen nichts Neues (2022)', ' Extraction (2020)', ' Avengers: Infinity War (2018)', ' 2 Fast 2 Furious (2003)', ' Murder Mystery 2 (2023)', ' Star Wars (1977)', ' Transformers (2007)', ' The Gray Man (2022)', ' Dawn of the Dead (2004)', ' Oldeuboi (2003)', ' Avatar (2009)', ' Jurassic Park (1993)', ' Black Hawk Down (2001)', ' The Magnificent Seven (2016)', ' The Gentlemen (2019)', ' Venom (2018)', ' Mission: Impossible - Fallout (2018)', ' Vikram Vedha (2022)', ' The Matrix (1999)', ' Tenet (2020)', ' Star Wars: Episode I - The Phantom Menace (1999)', ' The Hunt (II) (2020)', ' No Time to Die (2021)', ' Ant-Man (2015)', ' Mad Max: Fury Road (2015)', ' Twister (I) (1996)', ' Ford v Ferrari (2019)', ' Jurassic World Dominion (2022)', ' Sicario (2015)', ' Black Adam (2022)', ' Starship Troopers (1997)', ' The Northman (2022)', ' Mafia Mamma (2023)', ' Captain America: New World Order (2024)', ' Spider-Man (2002)', ' Doctor Strange in the Multiverse of Madness (2022)', ' Fast & Furious Presents: Hobbs & Shaw (2019)', ' Pirates of the Caribbean: The Curse of the Black Pearl (2003)', ' Rogue One (2016)', ' John Wick: Chapter 3 - Parabellum (2019)', ' The Woman King (2022)', ' Ready or Not (I) (2019)', ' Gladiator 2 (2024)', ' Airport (1970)', ' The Fifth Element (1997)', ' Kandahar (2023)', ' Free Guy (2021)', \" The King's Man (2021)\", ' Deadpool 3 (2024)', ' Wrath of Man (2021)', ' Star Wars: Episode IX - The Rise of Skywalker (2019)', ' Eternals (2021)', ' John Wick: Chapter 2 (2017)', ' 1917 (2019)', ' Deadpool (2016)', ' The Best Man (2023)', \" Les trois mousquetaires: D'Artagnan (2023)\", ' Superman: Legacy (2025)', ' Mission: Impossible (1996)', ' The Mummy (1999)', ' Hellboy: The Crooked Man', ' Uncharted (2022)', ' True Lies (1994)', ' Deadpool 2 (2018)', ' Blade Runner (1982)', ' RRR (Rise Roar Revolt) (2022)', ' Star Wars: Episode VI - Return of the Jedi (1983)', ' Iron Man (2008)', ' The Terminator (1984)', ' Kingsman: The Golden Circle (2017)', ' Aquaman and the Lost Kingdom (2023)', ' The Lord of the Rings: The Return of the King (2003)', ' Baywatch (2017)', ' Star Wars: Episode III - Revenge of the Sith (2005)', ' The Dark Knight Rises (2012)']\n"
     ]
    }
   ],
   "source": [
    "list_of_titles = df[\"Title\"].tolist()\n",
    "print(list_of_titles)"
   ]
  },
  {
   "cell_type": "code",
   "execution_count": 81,
   "metadata": {},
   "outputs": [
    {
     "name": "stdout",
     "output_type": "stream",
     "text": [
      "[' Guardians of the Galaxy (2014)', ' Guardians of the Galaxy Vol. 3 (2023)', ' Guardians of the Galaxy Vol. 2 (2017)']\n"
     ]
    }
   ],
   "source": [
    "movie = \"Guardians of the Galaxy\"\n",
    "find_close_match = difflib.get_close_matches(movie, list_of_titles)\n",
    "print(find_close_match)"
   ]
  },
  {
   "cell_type": "code",
   "execution_count": 82,
   "metadata": {},
   "outputs": [],
   "source": [
    "def movie_recommend():\n",
    "    movie = input(\"Enter movie title: \")\n",
    "    \n",
    "    find_close_match = difflib.get_close_matches(movie, list_of_titles)\n",
    "    close_match = find_close_match[0]\n",
    "    movie_index = df[df.Title == close_match].index.values[0]\n",
    "    similar_score = list(enumerate(similar[movie_index]))\n",
    "    sorted_list = sorted(similar_score, key = lambda x:x[1], reverse = True)\n",
    "    \n",
    "    \n",
    "    print (\"Movie recommended are: \")\n",
    "\n",
    "    i = 1\n",
    "\n",
    "    for film in sorted_list:\n",
    "        index = film[0]\n",
    "        title_movie  = df[df.index == index][\"Title\"].values[0]\n",
    "        if (i<31):\n",
    "            print(i, \".\", title_movie)\n",
    "            i+=1"
   ]
  },
  {
   "cell_type": "code",
   "execution_count": 83,
   "metadata": {},
   "outputs": [
    {
     "name": "stdout",
     "output_type": "stream",
     "text": [
      "Movie recommended are: \n",
      "1 .  Guardians of the Galaxy (2014)\n",
      "2 .  Guardians of the Galaxy Vol. 2 (2017)\n",
      "3 .  Guardians of the Galaxy Vol. 3 (2023)\n",
      "4 .  Rogue One (2016)\n",
      "5 .  Avatar: The Way of Water (2022)\n",
      "6 .  Avengers: Endgame (2019)\n",
      "7 .  Avatar (2009)\n",
      "8 .  Avengers: Infinity War (2018)\n",
      "9 .  The Magnificent Seven (2016)\n",
      "10 .  Spider-Man: Into the Spider-Verse (2018)\n",
      "11 .  F9 (2021)\n",
      "12 .  Fast & Furious 7 (2015)\n",
      "13 .  The Fast and the Furious (2001)\n",
      "14 .  Furious 6 (2013)\n",
      "15 .  Fast X (2023)\n",
      "16 .  Fast & Furious (2009)\n",
      "17 .  Ant-Man (2015)\n",
      "18 .  Superman: Legacy (2025)\n",
      "19 .  The Fate of the Furious (2017)\n",
      "20 .  Jurassic World Dominion (2022)\n",
      "21 .  Fast Five (2011)\n",
      "22 .  The Terminator (1984)\n",
      "23 .  Dungeons & Dragons: Honor Among Thieves (2023)\n",
      "24 .  Polite Society (2023)\n",
      "25 .  Twister (I) (1996)\n",
      "26 .  Kingsman: The Golden Circle (2017)\n",
      "27 .  The Suicide Squad (2021)\n",
      "28 .  Mad Max: Fury Road (2015)\n",
      "29 .  The Best Man (2023)\n",
      "30 .  Ant-Man and the Wasp: Quantumania (2023)\n"
     ]
    }
   ],
   "source": [
    "ft = movie_recommend()"
   ]
  },
  {
   "cell_type": "code",
   "execution_count": null,
   "metadata": {},
   "outputs": [],
   "source": []
  }
 ],
 "metadata": {
  "kernelspec": {
   "display_name": "Python 3",
   "language": "python",
   "name": "python3"
  },
  "language_info": {
   "codemirror_mode": {
    "name": "ipython",
    "version": 3
   },
   "file_extension": ".py",
   "mimetype": "text/x-python",
   "name": "python",
   "nbconvert_exporter": "python",
   "pygments_lexer": "ipython3",
   "version": "3.10.5"
  },
  "orig_nbformat": 4
 },
 "nbformat": 4,
 "nbformat_minor": 2
}
